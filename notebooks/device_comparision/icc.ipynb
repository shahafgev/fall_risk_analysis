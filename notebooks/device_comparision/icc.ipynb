{
 "cells": [
  {
   "cell_type": "code",
   "execution_count": 3,
   "id": "fa143b6c",
   "metadata": {},
   "outputs": [],
   "source": [
    "import sys\n",
    "import os\n",
    "\n",
    "project_root = os.path.abspath(os.path.join(os.getcwd(), \"..\", \"..\"))\n",
    "if project_root not in sys.path:\n",
    "    sys.path.insert(0, project_root)"
   ]
  },
  {
   "cell_type": "code",
   "execution_count": 4,
   "id": "351fc6a0",
   "metadata": {},
   "outputs": [],
   "source": [
    "import pandas as pd\n",
    "import numpy as np\n",
    "from scipy.stats import pearsonr, zscore"
   ]
  },
  {
   "cell_type": "code",
   "execution_count": 5,
   "id": "1ecd9652",
   "metadata": {},
   "outputs": [],
   "source": [
    "older_adults_trial_level = pd.read_csv(\"../../data/processed/older_adults/filtered_measurements.csv\")\n",
    "older_adults_average_level = pd.read_csv(\"../../data/processed/older_adults/average_measurements.csv\")\n",
    "students_trial_level = pd.read_csv(\"../../data/processed/students/measurements.csv\")\n",
    "students_average_level = pd.read_csv(\"../../data/processed/students/average_measurements.csv\")"
   ]
  },
  {
   "cell_type": "code",
   "execution_count": 2,
   "id": "47be04ff",
   "metadata": {},
   "outputs": [],
   "source": [
    "def check_ccc_assumptions(df, average_level=False, save_results=False):\n",
    "    \"\"\"\n",
    "    Check CCC assumptions: linearity, homoscedasticity, and outliers\n",
    "    for each (state, metric) using Force_Plate and ZED_COM.\n",
    "\n",
    "    Parameters:\n",
    "    - df: DataFrame with ['participant name', 'state', 'device', 'metric', 'value' or 'average_value']\n",
    "    - average_level: bool, use 'average_value' if True, else 'value'\n",
    "    - save_results: bool, if True, saves summary to assumptions/ccc_assumptions_*.csv\n",
    "    \"\"\"\n",
    "    value_col = 'average_value' if average_level else 'value'\n",
    "    df_filtered = df[df['device'].isin(['Force_Plate', 'ZED_COM'])]\n",
    "\n",
    "    results = []\n",
    "\n",
    "    print(f\"{'State':<10} {'Metric':<25} {'n':<4} {'Linearity (r)':<18} {'Homoscedasticity':<20} {'Outliers':<10} {'Summary'}\")\n",
    "    print(\"-\" * 90)\n",
    "\n",
    "    for (state, metric), group in df_filtered.groupby(['state', 'metric']):\n",
    "        pivot = group.pivot_table(index='participant name', columns='device', values=value_col).dropna()\n",
    "\n",
    "        if pivot.shape[0] < 3:\n",
    "            print(f\"{state:<10} {metric:<25} {pivot.shape[0]:<4} {'Too few':<18} {'Too few':<20} {'Too few':<10} Too few samples\")\n",
    "            results.append({\n",
    "                'state': state, 'metric': metric, 'n': pivot.shape[0],\n",
    "                'linearity_r': 'Too few', 'homoscedasticity': 'Too few', 'outliers': 'Too few',\n",
    "                'summary': 'Too few samples'\n",
    "            })\n",
    "            continue\n",
    "\n",
    "        x = pivot['Force_Plate']\n",
    "        y = pivot['ZED_COM']\n",
    "        n = len(x)\n",
    "\n",
    "        # Linearity\n",
    "        r_val, _ = pearsonr(x, y)\n",
    "        linearity_status = 'Linear' if abs(r_val) > 0.7 else 'Non-linear'\n",
    "\n",
    "        # Homoscedasticity\n",
    "        mean_vals = (x + y) / 2\n",
    "        abs_diff = np.abs(x - y)\n",
    "        r_hetero, p_hetero = pearsonr(mean_vals, abs_diff)\n",
    "        hetero_status = 'Yes' if p_hetero < 0.05 and abs(r_hetero) > 0.3 else 'No'\n",
    "\n",
    "        # Outlier detection using z-scores of differences\n",
    "        z_scores = zscore(x - y)\n",
    "        num_outliers = np.sum(np.abs(z_scores) > 3)\n",
    "        outlier_status = 'Yes' if num_outliers > 0 else 'No'\n",
    "\n",
    "        # Summary\n",
    "        if linearity_status == 'Linear' and hetero_status == 'No' and outlier_status == 'No':\n",
    "            summary = 'Assumptions met'\n",
    "        else:\n",
    "            summary = ', '.join(filter(lambda x: x != 'No', [linearity_status, 'Heterosced' if hetero_status == 'Yes' else '', 'Outliers' if outlier_status == 'Yes' else '']))\n",
    "\n",
    "        print(f\"{state:<10} {metric:<25} {n:<4} {r_val:.3f} ({linearity_status})   {hetero_status:<20} {outlier_status:<10} {summary}\")\n",
    "\n",
    "        results.append({\n",
    "            'state': state,\n",
    "            'metric': metric,\n",
    "            'n': n,\n",
    "            'linearity_r': r_val,\n",
    "            'homoscedasticity': hetero_status,\n",
    "            'outliers': outlier_status,\n",
    "            'summary': summary\n",
    "        })\n",
    "\n",
    "    # Save results if needed\n",
    "    if save_results:\n",
    "        os.makedirs(\"assumptions\", exist_ok=True)\n",
    "        filename = f\"ccc_assumptions_{'avg' if average_level else 'trial'}.csv\"\n",
    "        pd.DataFrame(results).to_csv(os.path.join(\"assumptions\", filename), index=False)\n",
    "        print(f\"\\nSaved CCC assumptions summary to: assumptions/{filename}\")\n"
   ]
  },
  {
   "cell_type": "code",
   "execution_count": 6,
   "id": "a2d02121",
   "metadata": {},
   "outputs": [
    {
     "name": "stdout",
     "output_type": "stream",
     "text": [
      "State      Metric                    n    Linearity (r)      Homoscedasticity     Outliers   Summary\n",
      "------------------------------------------------------------------------------------------\n",
      "closed     AP MAD                    37   0.803 (Linear)   No                   Yes        Linear, , Outliers\n",
      "closed     AP Max abs dev            37   0.676 (Non-linear)   Yes                  Yes        Non-linear, Heterosced, Outliers\n",
      "closed     AP Range                  37   0.683 (Non-linear)   Yes                  No         Non-linear, Heterosced, \n",
      "closed     AP Variance               37   0.836 (Linear)   Yes                  Yes        Linear, Heterosced, Outliers\n",
      "closed     Ellipse area              37   0.907 (Linear)   Yes                  Yes        Linear, Heterosced, Outliers\n",
      "closed     ML MAD                    37   0.917 (Linear)   No                   No         Assumptions met\n",
      "closed     ML Max abs dev            37   0.722 (Linear)   Yes                  Yes        Linear, Heterosced, Outliers\n",
      "closed     ML Range                  37   0.794 (Linear)   Yes                  Yes        Linear, Heterosced, Outliers\n",
      "closed     ML Variance               37   0.897 (Linear)   Yes                  Yes        Linear, Heterosced, Outliers\n",
      "closed     Path length               37   0.236 (Non-linear)   Yes                  No         Non-linear, Heterosced, \n",
      "closed     Sway RMS                  37   0.897 (Linear)   Yes                  Yes        Linear, Heterosced, Outliers\n",
      "open       AP MAD                    38   0.804 (Linear)   Yes                  No         Linear, Heterosced, \n",
      "open       AP Max abs dev            38   0.325 (Non-linear)   Yes                  Yes        Non-linear, Heterosced, Outliers\n",
      "open       AP Range                  38   0.486 (Non-linear)   Yes                  Yes        Non-linear, Heterosced, Outliers\n",
      "open       AP Variance               38   0.590 (Non-linear)   Yes                  Yes        Non-linear, Heterosced, Outliers\n",
      "open       Ellipse area              38   0.884 (Linear)   Yes                  Yes        Linear, Heterosced, Outliers\n",
      "open       ML MAD                    38   0.901 (Linear)   Yes                  No         Linear, Heterosced, \n",
      "open       ML Max abs dev            38   0.680 (Non-linear)   Yes                  Yes        Non-linear, Heterosced, Outliers\n",
      "open       ML Range                  38   0.739 (Linear)   Yes                  Yes        Linear, Heterosced, Outliers\n",
      "open       ML Variance               38   0.897 (Linear)   Yes                  Yes        Linear, Heterosced, Outliers\n",
      "open       Path length               38   0.066 (Non-linear)   Yes                  Yes        Non-linear, Heterosced, Outliers\n",
      "open       Sway RMS                  38   0.840 (Linear)   Yes                  Yes        Linear, Heterosced, Outliers\n"
     ]
    }
   ],
   "source": [
    "check_ccc_assumptions(older_adults_trial_level)"
   ]
  },
  {
   "cell_type": "code",
   "execution_count": 7,
   "id": "e5834967",
   "metadata": {},
   "outputs": [
    {
     "name": "stdout",
     "output_type": "stream",
     "text": [
      "State      Metric                    n    Linearity (r)      Homoscedasticity     Outliers   Summary\n",
      "------------------------------------------------------------------------------------------\n",
      "closed     AP MAD                    37   0.803 (Linear)   No                   Yes        Linear, , Outliers\n",
      "closed     AP Max abs dev            37   0.676 (Non-linear)   Yes                  Yes        Non-linear, Heterosced, Outliers\n",
      "closed     AP Range                  37   0.683 (Non-linear)   Yes                  No         Non-linear, Heterosced, \n",
      "closed     AP Variance               37   0.836 (Linear)   Yes                  Yes        Linear, Heterosced, Outliers\n",
      "closed     Ellipse area              37   0.907 (Linear)   Yes                  Yes        Linear, Heterosced, Outliers\n",
      "closed     ML MAD                    37   0.917 (Linear)   No                   No         Assumptions met\n",
      "closed     ML Max abs dev            37   0.722 (Linear)   Yes                  Yes        Linear, Heterosced, Outliers\n",
      "closed     ML Range                  37   0.794 (Linear)   Yes                  Yes        Linear, Heterosced, Outliers\n",
      "closed     ML Variance               37   0.897 (Linear)   Yes                  Yes        Linear, Heterosced, Outliers\n",
      "closed     Path length               37   0.236 (Non-linear)   Yes                  No         Non-linear, Heterosced, \n",
      "closed     Sway RMS                  37   0.897 (Linear)   Yes                  Yes        Linear, Heterosced, Outliers\n",
      "open       AP MAD                    38   0.804 (Linear)   Yes                  No         Linear, Heterosced, \n",
      "open       AP Max abs dev            38   0.325 (Non-linear)   Yes                  Yes        Non-linear, Heterosced, Outliers\n",
      "open       AP Range                  38   0.486 (Non-linear)   Yes                  Yes        Non-linear, Heterosced, Outliers\n",
      "open       AP Variance               38   0.590 (Non-linear)   Yes                  Yes        Non-linear, Heterosced, Outliers\n",
      "open       Ellipse area              38   0.884 (Linear)   Yes                  Yes        Linear, Heterosced, Outliers\n",
      "open       ML MAD                    38   0.901 (Linear)   Yes                  No         Linear, Heterosced, \n",
      "open       ML Max abs dev            38   0.680 (Non-linear)   Yes                  Yes        Non-linear, Heterosced, Outliers\n",
      "open       ML Range                  38   0.739 (Linear)   Yes                  Yes        Linear, Heterosced, Outliers\n",
      "open       ML Variance               38   0.897 (Linear)   Yes                  Yes        Linear, Heterosced, Outliers\n",
      "open       Path length               38   0.066 (Non-linear)   Yes                  Yes        Non-linear, Heterosced, Outliers\n",
      "open       Sway RMS                  38   0.840 (Linear)   Yes                  Yes        Linear, Heterosced, Outliers\n"
     ]
    }
   ],
   "source": [
    "check_ccc_assumptions(older_adults_average_level, average_level=True)"
   ]
  },
  {
   "cell_type": "code",
   "execution_count": null,
   "id": "1a1d0f08",
   "metadata": {},
   "outputs": [],
   "source": []
  }
 ],
 "metadata": {
  "kernelspec": {
   "display_name": "myenv",
   "language": "python",
   "name": "python3"
  },
  "language_info": {
   "codemirror_mode": {
    "name": "ipython",
    "version": 3
   },
   "file_extension": ".py",
   "mimetype": "text/x-python",
   "name": "python",
   "nbconvert_exporter": "python",
   "pygments_lexer": "ipython3",
   "version": "3.10.7"
  }
 },
 "nbformat": 4,
 "nbformat_minor": 5
}
