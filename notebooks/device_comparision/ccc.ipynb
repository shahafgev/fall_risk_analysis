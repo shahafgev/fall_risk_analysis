{
 "cells": [],
 "metadata": {
  "kernelspec": {
   "name": "fall_risk_env",
   "display_name": "Python (fall_risk_env)",
   "language": "python"
  },
  "language_info": {
   "name": "python"
  }
 },
 "nbformat": 4,
 "nbformat_minor": 5
}