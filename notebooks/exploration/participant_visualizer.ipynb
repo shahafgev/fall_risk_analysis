{
 "cells": [
  {
   "cell_type": "markdown",
   "metadata": {},
   "source": [
    "Participants: \n",
    "1. ann         11. dov       21. miryam     31. tami\n",
    "2. anna        12. ester     22. mordehai   32. tina\n",
    "3. ann-m       13. fabian    23. moshe      33. tova\n",
    "4. arie        14. gidon     24. naftali    34. uri\n",
    "5. avraham     15. gita      25. naomi      35. yaacov\n",
    "6. bat-sheva   16. ilana     26. rahel      36. yaacov_e\n",
    "7. batya       17. inez      27. raya       37. yaffa\n",
    "8. benny       18. mazal     28. ronald     38. yossef\n",
    "9. david       19. meir      29. shalom     39. yossi\n",
    "10. dida       20. michael   30. shalom_l   40. yudit"
   ]
  },
  {
   "cell_type": "code",
   "execution_count": 1,
   "metadata": {},
   "outputs": [],
   "source": [
    "participant_name = 'dida'"
   ]
  },
  {
   "cell_type": "code",
   "execution_count": 2,
   "metadata": {},
   "outputs": [],
   "source": [
    "eyes_open = [50, 50, 50, 50, 150]"
   ]
  },
  {
   "cell_type": "code",
   "execution_count": null,
   "metadata": {},
   "outputs": [],
   "source": [
    "for index in range(1,6):\n",
    "    print(\"Index:\", index)\n",
    "    show_decision_trim_plots(zed_file_dir=fr\"\\{participant_name}\\{participant_name}_zed\\{participant_name}_eyes_open{index}.csv\", \n",
    "                             zed_frames=eyes_open[index-1])"
   ]
  },
  {
   "cell_type": "code",
   "execution_count": null,
   "metadata": {},
   "outputs": [],
   "source": []
  }
 ],
 "metadata": {
  "kernelspec": {
   "display_name": "Python 3",
   "language": "python",
   "name": "python3"
  },
  "language_info": {
   "codemirror_mode": {
    "name": "ipython",
    "version": 3
   },
   "file_extension": ".py",
   "mimetype": "text/x-python",
   "name": "python",
   "nbconvert_exporter": "python",
   "pygments_lexer": "ipython3",
   "version": "3.12.2"
  }
 },
 "nbformat": 4,
 "nbformat_minor": 2
}
