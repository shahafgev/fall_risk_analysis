{
 "cells": [
  {
   "cell_type": "code",
   "execution_count": null,
   "id": "a82a6c8d-4b36-4648-9498-6ae946460cc5",
   "metadata": {},
   "outputs": [],
   "source": []
  }
 ],
 "metadata": {
  "kernelspec": {
   "display_name": "",
   "name": ""
  },
  "language_info": {
   "name": ""
  }
 },
 "nbformat": 4,
 "nbformat_minor": 5
}
