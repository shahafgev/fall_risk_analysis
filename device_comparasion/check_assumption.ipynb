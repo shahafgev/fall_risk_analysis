{
 "cells": [
  {
   "cell_type": "code",
   "execution_count": 1,
   "metadata": {},
   "outputs": [],
   "source": [
    "import sys\n",
    "import os\n",
    "\n",
    "project_root = os.path.abspath(os.path.join(os.getcwd(), \"..\"))\n",
    "if project_root not in sys.path:\n",
    "    sys.path.insert(0, project_root)"
   ]
  },
  {
   "cell_type": "code",
   "execution_count": 2,
   "metadata": {},
   "outputs": [],
   "source": [
    "import pandas as pd\n",
    "import numpy as np\n",
    "from scipy.stats import shapiro, levene"
   ]
  },
  {
   "cell_type": "code",
   "execution_count": 3,
   "metadata": {},
   "outputs": [],
   "source": [
    "older_adults_trial_level = pd.read_csv(\"../data/processed/older_adults/trial_measurements.csv\")\n",
    "older_adults_average_level = pd.read_csv(\"../data/processed/older_adults/average_measurements.csv\")\n",
    "students_trial_level = pd.read_csv(\"../data/processed/students/measurements.csv\")\n",
    "students_average_level = pd.read_csv(\"../data/processed/students/average_measurements.csv\")"
   ]
  },
  {
   "cell_type": "code",
   "execution_count": 4,
   "metadata": {},
   "outputs": [],
   "source": [
    "def check_statistical_assumptions_print_and_save(df, average_level=False):\n",
    "    \"\"\"\n",
    "    Checks and prints normality (of paired differences) and heteroscedasticity (variance equality)\n",
    "    for each (state, metric) comparing Force_Plate vs ZED_COM.\n",
    "    Heteroscedasticity is assessed with Levene's test (Brown–Forsythe, center='median').\n",
    "    Saves the results to ./assumptions/<dataset>.csv and prints a summary.\n",
    "\n",
    "    Parameters\n",
    "    ----------\n",
    "    df : pandas.DataFrame\n",
    "        Columns: ['participant name','state','device','metric','value' or 'average_value', ('trial' optional)]\n",
    "    average_level : bool\n",
    "        If True uses 'average_value', otherwise 'value'\n",
    "    \"\"\"\n",
    "    value_col = 'average_value' if average_level else 'value'\n",
    "    df_filtered = df[df['device'].isin(['Force_Plate', 'ZED_COM'])].copy()\n",
    "    results = []\n",
    "\n",
    "    header = f\"{'State':<10} {'Metric':<25} {'n':<4} {'Normality':<15} {'Heteroscedasticity':<20} {'Summary'}\"\n",
    "    print(header)\n",
    "    print(\"-\" * len(header))\n",
    "\n",
    "    for (state, metric), group in df_filtered.groupby(['state', 'metric']):\n",
    "        pivot_index = ['participant name']\n",
    "        if not average_level and 'trial' in group.columns:\n",
    "            pivot_index.insert(1, 'trial')\n",
    "\n",
    "        pivot = (group.pivot_table(index=pivot_index, columns='device', values=value_col)\n",
    "                       .dropna(subset=['Force_Plate', 'ZED_COM']))\n",
    "\n",
    "        n = pivot.shape[0]\n",
    "        if n < 3:\n",
    "            summary = {\n",
    "                'state': state, 'metric': metric, 'n': n,\n",
    "                'normality': 'Too few', 'shapiro_p': np.nan,\n",
    "                'heteroscedasticity': 'Too few', 'levene_p': np.nan,\n",
    "                'summary': 'Too few samples'\n",
    "            }\n",
    "            results.append(summary)\n",
    "            print(f\"{state:<10} {metric:<25} {n:<4} {'Too few':<15} {'Too few':<20} Too few samples\")\n",
    "            continue\n",
    "\n",
    "        # Paired differences for normality\n",
    "        diff = pivot['Force_Plate'].to_numpy() - pivot['ZED_COM'].to_numpy()\n",
    "        try:\n",
    "            shapiro_p = shapiro(diff).pvalue if 3 <= n <= 5000 else np.nan\n",
    "        except Exception:\n",
    "            shapiro_p = np.nan\n",
    "        normality = 'Normal' if (not np.isnan(shapiro_p) and shapiro_p >= 0.05) else 'Not normal'\n",
    "\n",
    "        # Levene (Brown–Forsythe) for variance equality between devices\n",
    "        fp_vals = pivot['Force_Plate'].to_numpy()\n",
    "        zed_vals = pivot['ZED_COM'].to_numpy()\n",
    "        # center='median' makes it Brown–Forsythe, more robust to non-normality\n",
    "        levene_stat, levene_p = levene(fp_vals, zed_vals, center='median')\n",
    "        hetero = 'Yes' if (levene_p < 0.05) else 'No'\n",
    "\n",
    "        # Summary label\n",
    "        if normality == 'Normal' and hetero == 'No':\n",
    "            summary_text = 'Assumptions met'\n",
    "        elif normality != 'Normal' and hetero == 'Yes':\n",
    "            summary_text = 'Both violated'\n",
    "        elif normality != 'Normal':\n",
    "            summary_text = 'Non-normal'\n",
    "        else:\n",
    "            summary_text = 'Heterosced'\n",
    "\n",
    "        results.append({\n",
    "            'state': state,\n",
    "            'metric': metric,\n",
    "            'n': n,\n",
    "            'normality': normality,\n",
    "            'shapiro_p': shapiro_p,\n",
    "            'heteroscedasticity': hetero,\n",
    "            'levene_p': levene_p,\n",
    "            'summary': summary_text\n",
    "        })\n",
    "\n",
    "        print(f\"{state:<10} {metric:<25} {n:<4} {normality:<15} {hetero:<20} {summary_text}\")\n",
    "\n",
    "    # Determine the filename\n",
    "    folder = \"assumptions\"\n",
    "    os.makedirs(folder, exist_ok=True)\n",
    "\n",
    "    if df is older_adults_trial_level:\n",
    "        filename = \"oa_trial_assumptions.csv\"\n",
    "    elif df is older_adults_average_level:\n",
    "        filename = \"oa_average_assumptions.csv\"\n",
    "    elif df is students_trial_level:\n",
    "        filename = \"st_trial_assumptions.csv\"\n",
    "    elif df is students_average_level:\n",
    "        filename = \"st_average_assumptions.csv\"\n",
    "    else:\n",
    "        filename = \"unknown_dataset_assumptions.csv\"\n",
    "\n",
    "    save_path = os.path.join(folder, filename)\n",
    "    pd.DataFrame(results).to_csv(save_path, index=False)\n",
    "    print(f\" Saved assumptions summary to: {save_path}\")"
   ]
  },
  {
   "cell_type": "markdown",
   "metadata": {},
   "source": [
    "## Older Adults"
   ]
  },
  {
   "cell_type": "code",
   "execution_count": 5,
   "metadata": {},
   "outputs": [
    {
     "name": "stdout",
     "output_type": "stream",
     "text": [
      "State      Metric                    n    Normality       Heteroscedasticity   Summary\n",
      "--------------------------------------------------------------------------------------\n",
      "closed     AP MAD                    184  Not normal      No                   Non-normal\n",
      "closed     AP Max abs dev            184  Not normal      No                   Non-normal\n",
      "closed     AP RMS                    184  Not normal      No                   Non-normal\n",
      "closed     AP Range                  184  Not normal      No                   Non-normal\n",
      "closed     Ellipse area              184  Not normal      No                   Non-normal\n",
      "closed     ML MAD                    184  Normal          No                   Assumptions met\n",
      "closed     ML Max abs dev            184  Not normal      No                   Non-normal\n",
      "closed     ML RMS                    184  Not normal      No                   Non-normal\n",
      "closed     ML Range                  184  Not normal      No                   Non-normal\n",
      "closed     Path length               184  Not normal      Yes                  Both violated\n",
      "closed     Range Ratio               184  Not normal      No                   Non-normal\n",
      "closed     Sway RMS                  184  Not normal      No                   Non-normal\n",
      "open       AP MAD                    189  Not normal      No                   Non-normal\n",
      "open       AP Max abs dev            189  Not normal      No                   Non-normal\n",
      "open       AP RMS                    189  Not normal      No                   Non-normal\n",
      "open       AP Range                  189  Not normal      No                   Non-normal\n",
      "open       Ellipse area              189  Not normal      No                   Non-normal\n",
      "open       ML MAD                    189  Not normal      No                   Non-normal\n",
      "open       ML Max abs dev            189  Not normal      No                   Non-normal\n",
      "open       ML RMS                    189  Not normal      No                   Non-normal\n",
      "open       ML Range                  189  Not normal      No                   Non-normal\n",
      "open       Path length               189  Not normal      Yes                  Both violated\n",
      "open       Range Ratio               189  Not normal      No                   Non-normal\n",
      "open       Sway RMS                  189  Not normal      No                   Non-normal\n",
      " Saved assumptions summary to: assumptions\\oa_trial_assumptions.csv\n"
     ]
    }
   ],
   "source": [
    "check_statistical_assumptions_print_and_save(older_adults_trial_level)"
   ]
  },
  {
   "cell_type": "code",
   "execution_count": 6,
   "metadata": {},
   "outputs": [
    {
     "name": "stdout",
     "output_type": "stream",
     "text": [
      "State      Metric                    n    Normality       Heteroscedasticity   Summary\n",
      "--------------------------------------------------------------------------------------\n",
      "closed     AP MAD                    37   Normal          No                   Assumptions met\n",
      "closed     AP Max abs dev            37   Not normal      No                   Non-normal\n",
      "closed     AP RMS                    37   Normal          No                   Assumptions met\n",
      "closed     AP Range                  37   Not normal      No                   Non-normal\n",
      "closed     Ellipse area              37   Not normal      No                   Non-normal\n",
      "closed     ML MAD                    37   Normal          No                   Assumptions met\n",
      "closed     ML Max abs dev            37   Not normal      No                   Non-normal\n",
      "closed     ML RMS                    37   Normal          No                   Assumptions met\n",
      "closed     ML Range                  37   Not normal      No                   Non-normal\n",
      "closed     Path length               37   Normal          No                   Assumptions met\n",
      "closed     Range Ratio               37   Normal          No                   Assumptions met\n",
      "closed     Sway RMS                  37   Not normal      No                   Non-normal\n",
      "open       AP MAD                    38   Normal          No                   Assumptions met\n",
      "open       AP Max abs dev            38   Not normal      No                   Non-normal\n",
      "open       AP RMS                    38   Not normal      No                   Non-normal\n",
      "open       AP Range                  38   Not normal      No                   Non-normal\n",
      "open       Ellipse area              38   Not normal      No                   Non-normal\n",
      "open       ML MAD                    38   Normal          No                   Assumptions met\n",
      "open       ML Max abs dev            38   Not normal      No                   Non-normal\n",
      "open       ML RMS                    38   Normal          No                   Assumptions met\n",
      "open       ML Range                  38   Not normal      No                   Non-normal\n",
      "open       Path length               38   Not normal      No                   Non-normal\n",
      "open       Range Ratio               38   Normal          No                   Assumptions met\n",
      "open       Sway RMS                  38   Not normal      No                   Non-normal\n",
      " Saved assumptions summary to: assumptions\\oa_average_assumptions.csv\n"
     ]
    }
   ],
   "source": [
    "check_statistical_assumptions_print_and_save(older_adults_average_level, average_level=True)"
   ]
  },
  {
   "cell_type": "markdown",
   "metadata": {},
   "source": [
    "## Students"
   ]
  },
  {
   "cell_type": "code",
   "execution_count": 7,
   "metadata": {},
   "outputs": [
    {
     "name": "stdout",
     "output_type": "stream",
     "text": [
      "State      Metric                    n    Normality       Heteroscedasticity   Summary\n",
      "--------------------------------------------------------------------------------------\n",
      "closed     AP MAD                    134  Not normal      No                   Non-normal\n",
      "closed     AP Max abs dev            134  Not normal      No                   Non-normal\n",
      "closed     AP RMS                    134  Not normal      No                   Non-normal\n",
      "closed     AP Range                  134  Normal          No                   Assumptions met\n",
      "closed     Ellipse area              134  Normal          No                   Assumptions met\n",
      "closed     ML MAD                    134  Normal          No                   Assumptions met\n",
      "closed     ML Max abs dev            134  Not normal      No                   Non-normal\n",
      "closed     ML RMS                    134  Normal          No                   Assumptions met\n",
      "closed     ML Range                  134  Normal          No                   Assumptions met\n",
      "closed     Path length               134  Not normal      Yes                  Both violated\n",
      "closed     Range Ratio               134  Not normal      Yes                  Both violated\n",
      "closed     Sway RMS                  134  Normal          No                   Assumptions met\n",
      "open       AP MAD                    135  Normal          No                   Assumptions met\n",
      "open       AP Max abs dev            135  Normal          No                   Assumptions met\n",
      "open       AP RMS                    135  Normal          No                   Assumptions met\n",
      "open       AP Range                  135  Normal          No                   Assumptions met\n",
      "open       Ellipse area              135  Not normal      Yes                  Both violated\n",
      "open       ML MAD                    135  Normal          Yes                  Heterosced\n",
      "open       ML Max abs dev            135  Not normal      No                   Non-normal\n",
      "open       ML RMS                    135  Normal          Yes                  Heterosced\n",
      "open       ML Range                  135  Normal          No                   Assumptions met\n",
      "open       Path length               135  Normal          Yes                  Heterosced\n",
      "open       Range Ratio               135  Not normal      Yes                  Both violated\n",
      "open       Sway RMS                  135  Normal          No                   Assumptions met\n",
      " Saved assumptions summary to: assumptions\\st_trial_assumptions.csv\n"
     ]
    }
   ],
   "source": [
    "check_statistical_assumptions_print_and_save(students_trial_level)"
   ]
  },
  {
   "cell_type": "code",
   "execution_count": 8,
   "metadata": {},
   "outputs": [
    {
     "name": "stdout",
     "output_type": "stream",
     "text": [
      "State      Metric                    n    Normality       Heteroscedasticity   Summary\n",
      "--------------------------------------------------------------------------------------\n",
      "closed     AP MAD                    27   Normal          No                   Assumptions met\n",
      "closed     AP Max abs dev            27   Normal          No                   Assumptions met\n",
      "closed     AP RMS                    27   Normal          No                   Assumptions met\n",
      "closed     AP Range                  27   Normal          No                   Assumptions met\n",
      "closed     Ellipse area              27   Normal          No                   Assumptions met\n",
      "closed     ML MAD                    27   Normal          No                   Assumptions met\n",
      "closed     ML Max abs dev            27   Not normal      No                   Non-normal\n",
      "closed     ML RMS                    27   Normal          No                   Assumptions met\n",
      "closed     ML Range                  27   Normal          No                   Assumptions met\n",
      "closed     Path length               27   Normal          No                   Assumptions met\n",
      "closed     Range Ratio               27   Normal          No                   Assumptions met\n",
      "closed     Sway RMS                  27   Normal          No                   Assumptions met\n",
      "open       AP MAD                    27   Normal          No                   Assumptions met\n",
      "open       AP Max abs dev            27   Normal          No                   Assumptions met\n",
      "open       AP RMS                    27   Normal          No                   Assumptions met\n",
      "open       AP Range                  27   Normal          No                   Assumptions met\n",
      "open       Ellipse area              27   Not normal      No                   Non-normal\n",
      "open       ML MAD                    27   Normal          No                   Assumptions met\n",
      "open       ML Max abs dev            27   Normal          No                   Assumptions met\n",
      "open       ML RMS                    27   Not normal      No                   Non-normal\n",
      "open       ML Range                  27   Normal          No                   Assumptions met\n",
      "open       Path length               27   Normal          Yes                  Heterosced\n",
      "open       Range Ratio               27   Normal          No                   Assumptions met\n",
      "open       Sway RMS                  27   Normal          No                   Assumptions met\n",
      " Saved assumptions summary to: assumptions\\st_average_assumptions.csv\n"
     ]
    }
   ],
   "source": [
    "check_statistical_assumptions_print_and_save(students_average_level, average_level=True)"
   ]
  }
 ],
 "metadata": {
  "kernelspec": {
   "display_name": "Python 3",
   "language": "python",
   "name": "python3"
  },
  "language_info": {
   "codemirror_mode": {
    "name": "ipython",
    "version": 3
   },
   "file_extension": ".py",
   "mimetype": "text/x-python",
   "name": "python",
   "nbconvert_exporter": "python",
   "pygments_lexer": "ipython3",
   "version": "3.11.9"
  }
 },
 "nbformat": 4,
 "nbformat_minor": 2
}
